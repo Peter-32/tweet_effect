{
 "cells": [
  {
   "cell_type": "code",
   "execution_count": 63,
   "metadata": {},
   "outputs": [
    {
     "data": {
      "text/plain": [
       "['data/Company.csv',\n",
       " 'data/CompanyValues.csv',\n",
       " 'data/Company_Tweet.csv',\n",
       " 'data/Tweet.csv']"
      ]
     },
     "execution_count": 63,
     "metadata": {},
     "output_type": "execute_result"
    }
   ],
   "source": [
    "import pandas as pd\n",
    "from glob import glob\n",
    "from datetime import datetime, timedelta\n",
    "glob(\"data/*\")"
   ]
  },
  {
   "cell_type": "code",
   "execution_count": 64,
   "metadata": {},
   "outputs": [
    {
     "data": {
      "text/plain": [
       "((6, 2), (4336445, 2), (3717964, 7), (17528, 7))"
      ]
     },
     "execution_count": 64,
     "metadata": {},
     "output_type": "execute_result"
    }
   ],
   "source": [
    "company = pd.read_csv(\"data/Company.csv\")\n",
    "bridge = pd.read_csv(\"data/Company_Tweet.csv\")\n",
    "tweet = pd.read_csv(\"data/Tweet.csv\")\n",
    "company_values = pd.read_csv(\"data/CompanyValues.csv\")\n",
    "df = tweet.join(bridge.set_index('tweet_id'), on=['tweet_id'], how=\"left\")\n",
    "company.shape, bridge.shape, tweet.shape, company_values.shape\n"
   ]
  },
  {
   "cell_type": "code",
   "execution_count": null,
   "metadata": {},
   "outputs": [],
   "source": [
    "df = tweet.join(bridge.set_index('tweet_id'), on=['tweet_id'], how=\"left\")\n",
    "df = df.loc[(df['comment_num'] > 0) | (df['retweet_num'] > 0) | (df['like_num'] > 0)]\n",
    "df['post_datetime'] = df['post_date'].apply(lambda x: datetime.fromtimestamp(x))\n",
    "df['tomorrow_date'] = df['post_datetime'].apply(lambda x: (x + timedelta(days=1)).strftime(\"%Y-%m-%d\"))\n",
    "df = df.join(company_values.set_index([\"ticker_symbol\", \"day_date\"]), on=[\"ticker_symbol\", \"tomorrow_date\"], how=\"left\")\n",
    "df.dropna(subset=['high_value'], inplace=True)\n",
    "def get_pct_change_tomorrow(x, y):\n",
    "    return (x/y)-1\n",
    "def get_how_disagreeable_it_is(comment, retweet, like):\n",
    "    return 1 if (retweet + like) == 0 else comment / (retweet + like)\n",
    "df['how_disagreeable_it_is'] = df[['comment_num', 'retweet_num', 'like_num']].apply(lambda x: get_how_disagreeable_it_is(*x), axis=1).astype(float)\n",
    "df['pct_change_tomorrow'] = df[['close_value', 'open_value']].apply(lambda x: get_pct_change_tomorrow(*x), axis=1).astype(float)\n",
    "df.drop(['tweet_id', 'post_date', 'post_datetime', 'tomorrow_date', 'volume', 'open_value', 'high_value', 'low_value', 'close_value'], axis='columns', inplace=True)\n",
    "df\n"
   ]
  },
  {
   "cell_type": "code",
   "execution_count": null,
   "metadata": {},
   "outputs": [],
   "source": []
  }
 ],
 "metadata": {
  "kernelspec": {
   "display_name": "commons3",
   "language": "python",
   "name": "commons3"
  },
  "language_info": {
   "codemirror_mode": {
    "name": "ipython",
    "version": 3
   },
   "file_extension": ".py",
   "mimetype": "text/x-python",
   "name": "python",
   "nbconvert_exporter": "python",
   "pygments_lexer": "ipython3",
   "version": "3.8.5"
  }
 },
 "nbformat": 4,
 "nbformat_minor": 4
}
